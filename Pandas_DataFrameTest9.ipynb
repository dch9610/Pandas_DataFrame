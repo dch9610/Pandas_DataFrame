{
 "cells": [
  {
   "cell_type": "code",
   "execution_count": 11,
   "metadata": {},
   "outputs": [],
   "source": [
    "import pandas as pd\n",
    "import numpy as np\n",
    "import seaborn as sb\n",
    "\n",
    "import matplotlib.pyplot as plt # 시각화 지원\n",
    "import matplotlib\n",
    "matplotlib.rcParams['font.family']='Malgun Gothic'\n",
    "matplotlib.rcParams['axes.unicode_minus']=False\n",
    "plt.rcParams[\"figure.figsize\"]=(12,5)"
   ]
  },
  {
   "cell_type": "code",
   "execution_count": 13,
   "metadata": {},
   "outputs": [
    {
     "data": {
      "text/html": [
       "<div>\n",
       "<style scoped>\n",
       "    .dataframe tbody tr th:only-of-type {\n",
       "        vertical-align: middle;\n",
       "    }\n",
       "\n",
       "    .dataframe tbody tr th {\n",
       "        vertical-align: top;\n",
       "    }\n",
       "\n",
       "    .dataframe thead th {\n",
       "        text-align: right;\n",
       "    }\n",
       "</style>\n",
       "<table border=\"1\" class=\"dataframe\">\n",
       "  <thead>\n",
       "    <tr style=\"text-align: right;\">\n",
       "      <th></th>\n",
       "      <th>학년</th>\n",
       "      <th>과목</th>\n",
       "      <th>결과</th>\n",
       "      <th>중간</th>\n",
       "      <th>기말</th>\n",
       "    </tr>\n",
       "  </thead>\n",
       "  <tbody>\n",
       "    <tr>\n",
       "      <th>0</th>\n",
       "      <td>1학년</td>\n",
       "      <td>국어</td>\n",
       "      <td>좋음</td>\n",
       "      <td>80</td>\n",
       "      <td>90</td>\n",
       "    </tr>\n",
       "    <tr>\n",
       "      <th>1</th>\n",
       "      <td>1학년</td>\n",
       "      <td>국어</td>\n",
       "      <td>나쁨</td>\n",
       "      <td>50</td>\n",
       "      <td>40</td>\n",
       "    </tr>\n",
       "    <tr>\n",
       "      <th>2</th>\n",
       "      <td>1학년</td>\n",
       "      <td>국어</td>\n",
       "      <td>나쁨</td>\n",
       "      <td>20</td>\n",
       "      <td>50</td>\n",
       "    </tr>\n",
       "    <tr>\n",
       "      <th>3</th>\n",
       "      <td>1학년</td>\n",
       "      <td>수학</td>\n",
       "      <td>좋음</td>\n",
       "      <td>83</td>\n",
       "      <td>95</td>\n",
       "    </tr>\n",
       "    <tr>\n",
       "      <th>4</th>\n",
       "      <td>1학년</td>\n",
       "      <td>수학</td>\n",
       "      <td>좋음</td>\n",
       "      <td>93</td>\n",
       "      <td>86</td>\n",
       "    </tr>\n",
       "    <tr>\n",
       "      <th>5</th>\n",
       "      <td>2학년</td>\n",
       "      <td>국어</td>\n",
       "      <td>나쁨</td>\n",
       "      <td>44</td>\n",
       "      <td>65</td>\n",
       "    </tr>\n",
       "    <tr>\n",
       "      <th>6</th>\n",
       "      <td>2학년</td>\n",
       "      <td>국어</td>\n",
       "      <td>좋음</td>\n",
       "      <td>95</td>\n",
       "      <td>98</td>\n",
       "    </tr>\n",
       "    <tr>\n",
       "      <th>7</th>\n",
       "      <td>2학년</td>\n",
       "      <td>수학</td>\n",
       "      <td>좋음</td>\n",
       "      <td>96</td>\n",
       "      <td>99</td>\n",
       "    </tr>\n",
       "    <tr>\n",
       "      <th>8</th>\n",
       "      <td>2학년</td>\n",
       "      <td>수학</td>\n",
       "      <td>나쁨</td>\n",
       "      <td>57</td>\n",
       "      <td>69</td>\n",
       "    </tr>\n",
       "  </tbody>\n",
       "</table>\n",
       "</div>"
      ],
      "text/plain": [
       "    학년  과목   결과  중간  기말\n",
       "0  1학년  국어   좋음  80  90\n",
       "1  1학년  국어   나쁨  50  40\n",
       "2  1학년  국어   나쁨  20  50\n",
       "3  1학년  수학   좋음  83  95\n",
       "4  1학년  수학   좋음  93  86\n",
       "5  2학년  국어   나쁨  44  65\n",
       "6  2학년  국어   좋음  95  98\n",
       "7  2학년  수학   좋음  96  99\n",
       "8  2학년  수학   나쁨  57  69"
      ]
     },
     "execution_count": 13,
     "metadata": {},
     "output_type": "execute_result"
    }
   ],
   "source": [
    "df=pd.read_csv('data/grade.csv')\n",
    "df"
   ]
  },
  {
   "cell_type": "code",
   "execution_count": 14,
   "metadata": {},
   "outputs": [],
   "source": [
    "# 멀티 인덱스 중복되는 인덱스를 묶어서 검색하기에 편함\n",
    "df.set_index(['학년','과목'],inplace=True)"
   ]
  },
  {
   "cell_type": "code",
   "execution_count": 16,
   "metadata": {},
   "outputs": [
    {
     "data": {
      "text/html": [
       "<div>\n",
       "<style scoped>\n",
       "    .dataframe tbody tr th:only-of-type {\n",
       "        vertical-align: middle;\n",
       "    }\n",
       "\n",
       "    .dataframe tbody tr th {\n",
       "        vertical-align: top;\n",
       "    }\n",
       "\n",
       "    .dataframe thead th {\n",
       "        text-align: right;\n",
       "    }\n",
       "</style>\n",
       "<table border=\"1\" class=\"dataframe\">\n",
       "  <thead>\n",
       "    <tr style=\"text-align: right;\">\n",
       "      <th></th>\n",
       "      <th></th>\n",
       "      <th>결과</th>\n",
       "      <th>중간</th>\n",
       "      <th>기말</th>\n",
       "    </tr>\n",
       "    <tr>\n",
       "      <th>학년</th>\n",
       "      <th>과목</th>\n",
       "      <th></th>\n",
       "      <th></th>\n",
       "      <th></th>\n",
       "    </tr>\n",
       "  </thead>\n",
       "  <tbody>\n",
       "    <tr>\n",
       "      <th rowspan=\"5\" valign=\"top\">1학년</th>\n",
       "      <th>국어</th>\n",
       "      <td>좋음</td>\n",
       "      <td>80</td>\n",
       "      <td>90</td>\n",
       "    </tr>\n",
       "    <tr>\n",
       "      <th>국어</th>\n",
       "      <td>나쁨</td>\n",
       "      <td>50</td>\n",
       "      <td>40</td>\n",
       "    </tr>\n",
       "    <tr>\n",
       "      <th>국어</th>\n",
       "      <td>나쁨</td>\n",
       "      <td>20</td>\n",
       "      <td>50</td>\n",
       "    </tr>\n",
       "    <tr>\n",
       "      <th>수학</th>\n",
       "      <td>좋음</td>\n",
       "      <td>83</td>\n",
       "      <td>95</td>\n",
       "    </tr>\n",
       "    <tr>\n",
       "      <th>수학</th>\n",
       "      <td>좋음</td>\n",
       "      <td>93</td>\n",
       "      <td>86</td>\n",
       "    </tr>\n",
       "    <tr>\n",
       "      <th rowspan=\"4\" valign=\"top\">2학년</th>\n",
       "      <th>국어</th>\n",
       "      <td>나쁨</td>\n",
       "      <td>44</td>\n",
       "      <td>65</td>\n",
       "    </tr>\n",
       "    <tr>\n",
       "      <th>국어</th>\n",
       "      <td>좋음</td>\n",
       "      <td>95</td>\n",
       "      <td>98</td>\n",
       "    </tr>\n",
       "    <tr>\n",
       "      <th>수학</th>\n",
       "      <td>좋음</td>\n",
       "      <td>96</td>\n",
       "      <td>99</td>\n",
       "    </tr>\n",
       "    <tr>\n",
       "      <th>수학</th>\n",
       "      <td>나쁨</td>\n",
       "      <td>57</td>\n",
       "      <td>69</td>\n",
       "    </tr>\n",
       "  </tbody>\n",
       "</table>\n",
       "</div>"
      ],
      "text/plain": [
       "         결과  중간  기말\n",
       "학년  과목             \n",
       "1학년 국어   좋음  80  90\n",
       "    국어   나쁨  50  40\n",
       "    국어   나쁨  20  50\n",
       "    수학   좋음  83  95\n",
       "    수학   좋음  93  86\n",
       "2학년 국어   나쁨  44  65\n",
       "    국어   좋음  95  98\n",
       "    수학   좋음  96  99\n",
       "    수학   나쁨  57  69"
      ]
     },
     "execution_count": 16,
     "metadata": {},
     "output_type": "execute_result"
    }
   ],
   "source": [
    "df"
   ]
  },
  {
   "cell_type": "code",
   "execution_count": 18,
   "metadata": {},
   "outputs": [
    {
     "data": {
      "text/html": [
       "<div>\n",
       "<style scoped>\n",
       "    .dataframe tbody tr th:only-of-type {\n",
       "        vertical-align: middle;\n",
       "    }\n",
       "\n",
       "    .dataframe tbody tr th {\n",
       "        vertical-align: top;\n",
       "    }\n",
       "\n",
       "    .dataframe thead th {\n",
       "        text-align: right;\n",
       "    }\n",
       "</style>\n",
       "<table border=\"1\" class=\"dataframe\">\n",
       "  <thead>\n",
       "    <tr style=\"text-align: right;\">\n",
       "      <th></th>\n",
       "      <th>결과</th>\n",
       "      <th>중간</th>\n",
       "      <th>기말</th>\n",
       "    </tr>\n",
       "    <tr>\n",
       "      <th>과목</th>\n",
       "      <th></th>\n",
       "      <th></th>\n",
       "      <th></th>\n",
       "    </tr>\n",
       "  </thead>\n",
       "  <tbody>\n",
       "    <tr>\n",
       "      <th>국어</th>\n",
       "      <td>좋음</td>\n",
       "      <td>80</td>\n",
       "      <td>90</td>\n",
       "    </tr>\n",
       "    <tr>\n",
       "      <th>국어</th>\n",
       "      <td>나쁨</td>\n",
       "      <td>50</td>\n",
       "      <td>40</td>\n",
       "    </tr>\n",
       "    <tr>\n",
       "      <th>국어</th>\n",
       "      <td>나쁨</td>\n",
       "      <td>20</td>\n",
       "      <td>50</td>\n",
       "    </tr>\n",
       "    <tr>\n",
       "      <th>수학</th>\n",
       "      <td>좋음</td>\n",
       "      <td>83</td>\n",
       "      <td>95</td>\n",
       "    </tr>\n",
       "    <tr>\n",
       "      <th>수학</th>\n",
       "      <td>좋음</td>\n",
       "      <td>93</td>\n",
       "      <td>86</td>\n",
       "    </tr>\n",
       "  </tbody>\n",
       "</table>\n",
       "</div>"
      ],
      "text/plain": [
       "     결과  중간  기말\n",
       "과목             \n",
       "국어   좋음  80  90\n",
       "국어   나쁨  50  40\n",
       "국어   나쁨  20  50\n",
       "수학   좋음  83  95\n",
       "수학   좋음  93  86"
      ]
     },
     "execution_count": 18,
     "metadata": {},
     "output_type": "execute_result"
    }
   ],
   "source": [
    "df.loc['1학년']"
   ]
  },
  {
   "cell_type": "code",
   "execution_count": 20,
   "metadata": {},
   "outputs": [
    {
     "data": {
      "text/html": [
       "<div>\n",
       "<style scoped>\n",
       "    .dataframe tbody tr th:only-of-type {\n",
       "        vertical-align: middle;\n",
       "    }\n",
       "\n",
       "    .dataframe tbody tr th {\n",
       "        vertical-align: top;\n",
       "    }\n",
       "\n",
       "    .dataframe thead th {\n",
       "        text-align: right;\n",
       "    }\n",
       "</style>\n",
       "<table border=\"1\" class=\"dataframe\">\n",
       "  <thead>\n",
       "    <tr style=\"text-align: right;\">\n",
       "      <th></th>\n",
       "      <th>중간</th>\n",
       "      <th>기말</th>\n",
       "    </tr>\n",
       "    <tr>\n",
       "      <th>학년</th>\n",
       "      <th></th>\n",
       "      <th></th>\n",
       "    </tr>\n",
       "  </thead>\n",
       "  <tbody>\n",
       "    <tr>\n",
       "      <th>1학년</th>\n",
       "      <td>65.2</td>\n",
       "      <td>72.20</td>\n",
       "    </tr>\n",
       "    <tr>\n",
       "      <th>2학년</th>\n",
       "      <td>73.0</td>\n",
       "      <td>82.75</td>\n",
       "    </tr>\n",
       "  </tbody>\n",
       "</table>\n",
       "</div>"
      ],
      "text/plain": [
       "       중간     기말\n",
       "학년              \n",
       "1학년  65.2  72.20\n",
       "2학년  73.0  82.75"
      ]
     },
     "execution_count": 20,
     "metadata": {},
     "output_type": "execute_result"
    }
   ],
   "source": [
    "g=df.groupby('학년')\n",
    "g.mean()"
   ]
  },
  {
   "cell_type": "code",
   "execution_count": 1,
   "metadata": {},
   "outputs": [
    {
     "ename": "NameError",
     "evalue": "name 'df' is not defined",
     "output_type": "error",
     "traceback": [
      "\u001b[1;31m---------------------------------------------------------------------------\u001b[0m",
      "\u001b[1;31mNameError\u001b[0m                                 Traceback (most recent call last)",
      "\u001b[1;32m<ipython-input-1-cbdef19b9e5b>\u001b[0m in \u001b[0;36m<module>\u001b[1;34m\u001b[0m\n\u001b[1;32m----> 1\u001b[1;33m \u001b[0mg1\u001b[0m\u001b[1;33m=\u001b[0m\u001b[0mdf\u001b[0m\u001b[1;33m.\u001b[0m\u001b[0mgroupby\u001b[0m\u001b[1;33m(\u001b[0m\u001b[1;33m[\u001b[0m\u001b[1;34m'학년'\u001b[0m\u001b[1;33m,\u001b[0m\u001b[1;34m'과목'\u001b[0m\u001b[1;33m]\u001b[0m\u001b[1;33m)\u001b[0m\u001b[1;33m\u001b[0m\u001b[1;33m\u001b[0m\u001b[0m\n\u001b[0m\u001b[0;32m      2\u001b[0m \u001b[0mg1\u001b[0m\u001b[1;33m.\u001b[0m\u001b[0mmean\u001b[0m\u001b[1;33m(\u001b[0m\u001b[1;33m)\u001b[0m\u001b[1;33m\u001b[0m\u001b[1;33m\u001b[0m\u001b[0m\n",
      "\u001b[1;31mNameError\u001b[0m: name 'df' is not defined"
     ]
    }
   ],
   "source": [
    "g1=df.groupby(['학년','과목'])\n",
    "g1.mean()"
   ]
  },
  {
   "cell_type": "code",
   "execution_count": 8,
   "metadata": {},
   "outputs": [
    {
     "name": "stdout",
     "output_type": "stream",
     "text": [
      "[['강남구' 2780 1292 430 584 932]\n",
      " ['강동구' 773 379 99 155 377]\n",
      " ['강북구' 748 369 120 138 204]\n",
      " ['강서구' 884 388 258 184 81]\n",
      " ['관악구' 1496 846 260 390 613]\n",
      " ['광진구' 707 573 78 53 174]\n",
      " ['구로구' 1561 1142 173 246 323]\n",
      " ['금천구' 1015 674 51 269 354]\n",
      " ['노원구' 1265 542 57 451 516]\n",
      " ['도봉구' 485 238 159 42 386]\n",
      " ['동대문구' 1294 1070 23 198 579]\n",
      " ['동작구' 1091 544 341 103 314]\n",
      " ['마포구' 574 314 118 169 379]\n",
      " ['서대문구' 962 844 50 68 292]\n",
      " ['서초구' 1930 1406 157 336 398]\n",
      " ['성동구' 1062 730 91 241 265]\n",
      " ['성북구' 1464 1009 78 360 204]\n",
      " ['송파구' 618 529 21 68 463]\n",
      " ['양천구' 2034 1843 142 30 467]\n",
      " ['영등포구' 904 495 214 195 373]\n",
      " ['용산구' 1624 1368 218 112 398]\n",
      " ['은평구' 1873 1138 224 278 468]\n",
      " ['종로구' 1002 464 314 211 630]\n",
      " ['중구' 671 413 190 72 348]\n",
      " ['중랑구' 660 509 121 177 109]]\n"
     ]
    }
   ],
   "source": [
    "df=pd.read_csv('data/CCTV_in_Seoul.csv')\n",
    "print(df.values)\n"
   ]
  },
  {
   "cell_type": "code",
   "execution_count": 10,
   "metadata": {},
   "outputs": [
    {
     "name": "stdout",
     "output_type": "stream",
     "text": [
      "강남구 2780 1292 430 584 932\n",
      "강동구 773 379 99 155 377\n",
      "강북구 748 369 120 138 204\n",
      "강서구 884 388 258 184 81\n",
      "관악구 1496 846 260 390 613\n",
      "광진구 707 573 78 53 174\n",
      "구로구 1561 1142 173 246 323\n",
      "금천구 1015 674 51 269 354\n",
      "노원구 1265 542 57 451 516\n",
      "도봉구 485 238 159 42 386\n",
      "동대문구 1294 1070 23 198 579\n",
      "동작구 1091 544 341 103 314\n",
      "마포구 574 314 118 169 379\n",
      "서대문구 962 844 50 68 292\n",
      "서초구 1930 1406 157 336 398\n",
      "성동구 1062 730 91 241 265\n",
      "성북구 1464 1009 78 360 204\n",
      "송파구 618 529 21 68 463\n",
      "양천구 2034 1843 142 30 467\n",
      "영등포구 904 495 214 195 373\n",
      "용산구 1624 1368 218 112 398\n",
      "은평구 1873 1138 224 278 468\n",
      "종로구 1002 464 314 211 630\n",
      "중구 671 413 190 72 348\n",
      "중랑구 660 509 121 177 109\n"
     ]
    }
   ],
   "source": [
    "df=pd.read_csv('data/CCTV_in_Seoul.csv')\n",
    "df.values\n",
    "for n1,n2,n3,n4,n5,n6 in df.values:\n",
    "    print(n1,n2,n3,n4,n5,n6)\n",
    "    "
   ]
  },
  {
   "cell_type": "code",
   "execution_count": 13,
   "metadata": {},
   "outputs": [
    {
     "data": {
      "image/png": "[encoded data removed]",
      "text/plain": [
       "<Figure size 864x360 with 1 Axes>"
      ]
     },
     "metadata": {
      "needs_background": "light"
     },
     "output_type": "display_data"
    }
   ],
   "source": [
    "df[['기관명','소계']].plot(x='기관명',kind='bar')\n",
    "plt.savefig('a.jpg')\n",
    "plt.show()"
   ]
  }
 ],
 "metadata": {
  "kernelspec": {
   "display_name": "Python 3",
   "language": "python",
   "name": "python3"
  },
  "language_info": {
   "codemirror_mode": {
    "name": "ipython",
    "version": 3
   },
   "file_extension": ".py",
   "mimetype": "text/x-python",
   "name": "python",
   "nbconvert_exporter": "python",
   "pygments_lexer": "ipython3",
   "version": "3.7.6"
  }
 },
 "nbformat": 4,
 "nbformat_minor": 4
}
